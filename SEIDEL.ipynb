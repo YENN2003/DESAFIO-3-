{
  "nbformat": 4,
  "nbformat_minor": 0,
  "metadata": {
    "colab": {
      "provenance": []
    },
    "kernelspec": {
      "name": "python3",
      "display_name": "Python 3"
    },
    "language_info": {
      "name": "python"
    }
  },
  "cells": [
    {
      "cell_type": "code",
      "execution_count": 2,
      "metadata": {
        "colab": {
          "base_uri": "https://localhost:8080/"
        },
        "id": "QW0bouz5vvJT",
        "outputId": "9cfdda66-91e6-44ca-c79a-6fdbb3b8d669"
      },
      "outputs": [
        {
          "output_type": "stream",
          "name": "stdout",
          "text": [
            "Resultados de cada iteración:\n",
            "Iteración 1: [9230 6082 4007]\n",
            "Iteración 2: [4965 7038 4881]\n",
            "Iteración 3: [4177 7161 5072]\n",
            "Iteración 4: [4038 7168 5114]\n",
            "Iteración 5: [4015 7165 5123]\n",
            "Iteración 6: [4012 7163 5125]\n",
            "Iteración 7: [4011 7163 5125]\n",
            "Iteración 8: [4011 7163 5125]\n",
            "Convergió en 8 iteraciones.\n",
            "Soluciones finales:\n",
            "[4011 7163 5125]\n"
          ]
        }
      ],
      "source": [
        "import numpy as np\n",
        "\n",
        "# Definición de la matriz A y el vector b\n",
        "A = np.array([[0.52, 0.2, 0.25],\n",
        "              [0.3, 0.5, 0.2],\n",
        "              [0.18, 0.3, 0.55]])\n",
        "\n",
        "b = np.array([4800, 5810, 5690])\n",
        "\n",
        "# Inicialización\n",
        "x = np.zeros_like(b)\n",
        "n_iterationes = 12  # Número de iteraciones\n",
        "tolerancia = 7.68326e-05\n",
        "\n",
        "# Método de Gauss-Seidel\n",
        "print(\"Resultados de cada iteración:\")\n",
        "for iteration in range(n_iterationes):\n",
        "    x_old = x.copy()\n",
        "\n",
        "    for i in range(len(b)):\n",
        "        # Suma de los términos\n",
        "        sigma = sum(A[i][j] * x[j] for j in range(len(b)) if j != i)\n",
        "        x[i] = (b[i] - sigma) / A[i][i]\n",
        "\n",
        "    # Mostrar los resultados de la iteración\n",
        "    print(f\"Iteración {iteration + 1}: {x}\")\n",
        "\n",
        "    # Verificación de la convergencia\n",
        "    if np.linalg.norm(x - x_old, ord=np.inf) < tolerancia:\n",
        "        print(f\"Convergió en {iteration + 1} iteraciones.\")\n",
        "        break\n",
        "\n",
        "# Resultados finales\n",
        "print(\"Soluciones finales:\")\n",
        "print(x)"
      ]
    }
  ]
}